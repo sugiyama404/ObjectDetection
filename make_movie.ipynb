{
  "nbformat": 4,
  "nbformat_minor": 0,
  "metadata": {
    "colab": {
      "name": "make_movie.ipynb",
      "provenance": [],
      "collapsed_sections": [],
      "machine_shape": "hm",
      "mount_file_id": "1tBbw5-fj7Y05OQQLJ8z6xpsAIw0ybfoM",
      "authorship_tag": "ABX9TyOQQc/90IyIuWFsPyYad44X",
      "include_colab_link": true
    },
    "kernelspec": {
      "name": "python3",
      "display_name": "Python 3"
    },
    "language_info": {
      "name": "python"
    },
    "accelerator": "GPU"
  },
  "cells": [
    {
      "cell_type": "markdown",
      "metadata": {
        "id": "view-in-github",
        "colab_type": "text"
      },
      "source": [
        "<a href=\"https://colab.research.google.com/github/sugiyama404/ObjectDetection/blob/main/make_movie.ipynb\" target=\"_parent\"><img src=\"https://colab.research.google.com/assets/colab-badge.svg\" alt=\"Open In Colab\"/></a>"
      ]
    },
    {
      "cell_type": "code",
      "metadata": {
        "id": "UIKY3EFQ2QJF"
      },
      "source": [
        "import sys\n",
        "import cv2\n",
        "import os\n",
        "from tqdm import tqdm\n",
        "\n",
        "origin_movie_path   = '/content/drive/MyDrive/ObjectDetective/dataset/movie/origin.mp4'\n",
        "origin_picture_path = '/content/drive/MyDrive/ObjectDetective/dataset/movie/original_picture'\n",
        "detr_picture_path   = '/content/drive/MyDrive/ObjectDetective/dataset/movie/detr_picture'\n",
        "detr_esrgan_path    = '/content/drive/MyDrive/ObjectDetective/dataset/movie/detr_esrgan_picture'\n",
        "path                = '/content/drive/MyDrive/ObjectDetective/dataset/movie/images/'"
      ],
      "execution_count": 1,
      "outputs": []
    },
    {
      "cell_type": "code",
      "metadata": {
        "id": "HHvaforK4hVr"
      },
      "source": [
        "def rename_file():\n",
        "    files = os.listdir(path)\n",
        "    for file in files:\n",
        "        name = path + file\n",
        "        rename = path + file + '.jpg'\n",
        "        #print('name: ',name,' ','rename: ', rename)\n",
        "        os.rename(name, rename)"
      ],
      "execution_count": 2,
      "outputs": []
    },
    {
      "cell_type": "code",
      "metadata": {
        "id": "e9_CUVGwhoDf"
      },
      "source": [
        "def make_video(name, dpath):\n",
        "    fmt = cv2.VideoWriter_fourcc(*'mp4v')\n",
        "    video = cv2.VideoWriter(name, fmt, 20.0, (640, 480))\n",
        "\n",
        "    if not video.isOpened():\n",
        "        print(\"could't be opened\")\n",
        "        sys.exit()\n",
        "\n",
        "    files = os.listdir(dpath)\n",
        "    for file in tqdm(files):\n",
        "    \n",
        "        img = cv2.imread(dpath + '/' + file)\n",
        "\n",
        "        if img is None:\n",
        "            break\n",
        "\n",
        "        img=cv2.resize(img,(640,480))\n",
        "        video.write(img)\n",
        "\n",
        "    print(' ')\n",
        "    video.release()\n",
        "    print('sucsess!!')"
      ],
      "execution_count": 3,
      "outputs": []
    },
    {
      "cell_type": "code",
      "metadata": {
        "id": "xlg6K4w6VuEK"
      },
      "source": [
        "def make_video2(name, dpath, start=0, end=10000):\n",
        "    fmt = cv2.VideoWriter_fourcc(*'mp4v')\n",
        "    video = cv2.VideoWriter(name, fmt, 20.0, (640, 480))\n",
        "\n",
        "    if not video.isOpened():\n",
        "        print(\"could't be opened\")\n",
        "        sys.exit()\n",
        "\n",
        "    for i in tqdm(range(start, end)):\n",
        "\n",
        "        img = cv2.imread(f'{dpath}/{i:04d}.jpg')\n",
        "\n",
        "        if img is None:\n",
        "            break\n",
        "\n",
        "        img=cv2.resize(img,(640,480))\n",
        "        video.write(img)\n",
        "\n",
        "    print(' ')\n",
        "    video.release()\n",
        "    print('sucsess!!')"
      ],
      "execution_count": 4,
      "outputs": []
    },
    {
      "cell_type": "code",
      "metadata": {
        "id": "qh0WLyIh0Vvh"
      },
      "source": [
        "def conv_movie_to_frames(video_path, dir_path, ext='jpg'):\n",
        "    cap = cv2.VideoCapture(video_path)\n",
        "\n",
        "    if not cap.isOpened():\n",
        "        return\n",
        "\n",
        "    os.makedirs(dir_path, exist_ok=True)\n",
        "\n",
        "    digit = len(str(int(cap.get(cv2.CAP_PROP_FRAME_COUNT))))\n",
        "\n",
        "    n = 1\n",
        "    while True:\n",
        "        ret, frame = cap.read()\n",
        "        if ret:\n",
        "            cv2.imwrite(f'{dir_path}/{n:04d}.{ext}', frame)\n",
        "            n += 1\n",
        "        else:\n",
        "            return"
      ],
      "execution_count": 5,
      "outputs": []
    },
    {
      "cell_type": "code",
      "metadata": {
        "id": "j1F6VSE9xgXp",
        "colab": {
          "base_uri": "https://localhost:8080/"
        },
        "outputId": "d0db8947-e819-46dc-d494-9357323f043d"
      },
      "source": [
        "make_video2('detr.mp4', detr_picture_path, 800, 1100)"
      ],
      "execution_count": 7,
      "outputs": [
        {
          "output_type": "stream",
          "name": "stderr",
          "text": [
            "100%|██████████| 300/300 [01:41<00:00,  2.95it/s]"
          ]
        },
        {
          "output_type": "stream",
          "name": "stdout",
          "text": [
            " \n",
            "sucsess!!\n"
          ]
        },
        {
          "output_type": "stream",
          "name": "stderr",
          "text": [
            "\n"
          ]
        }
      ]
    }
  ]
}